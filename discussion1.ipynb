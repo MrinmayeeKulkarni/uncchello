{
  "nbformat": 4,
  "nbformat_minor": 0,
  "metadata": {
    "colab": {
      "name": "discussion1.ipynb",
      "provenance": [],
      "authorship_tag": "ABX9TyO3UkE6JBjWXQEfa6YQ5Xyw",
      "include_colab_link": true
    },
    "kernelspec": {
      "name": "python3",
      "display_name": "Python 3"
    }
  },
  "cells": [
    {
      "cell_type": "markdown",
      "metadata": {
        "id": "view-in-github",
        "colab_type": "text"
      },
      "source": [
        "<a href=\"https://colab.research.google.com/github/MrinmayeeKulkarni/uncchello/blob/master/discussion1.ipynb\" target=\"_parent\"><img src=\"https://colab.research.google.com/assets/colab-badge.svg\" alt=\"Open In Colab\"/></a>"
      ]
    },
    {
      "cell_type": "code",
      "metadata": {
        "id": "XWeEosP2Q2F4",
        "colab_type": "code",
        "colab": {}
      },
      "source": [
        "def hello(): return 1"
      ],
      "execution_count": 0,
      "outputs": []
    },
    {
      "cell_type": "markdown",
      "metadata": {
        "id": "py30zKwkYywA",
        "colab_type": "text"
      },
      "source": [
        "![alt text](https://user-images.githubusercontent.com/44381361/73123643-f8fd1500-3f5f-11ea-9332-fc1b5a72be91.png)"
      ]
    }
  ]
}